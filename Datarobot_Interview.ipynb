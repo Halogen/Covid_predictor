{
  "nbformat": 4,
  "nbformat_minor": 0,
  "metadata": {
    "colab": {
      "name": "Datarobot_Interview.ipynb",
      "provenance": [],
      "authorship_tag": "ABX9TyN0SEzymt5mzWuCks5OLFXB",
      "include_colab_link": true
    },
    "kernelspec": {
      "name": "python3",
      "display_name": "Python 3"
    },
    "language_info": {
      "name": "python"
    }
  },
  "cells": [
    {
      "cell_type": "markdown",
      "metadata": {
        "id": "view-in-github",
        "colab_type": "text"
      },
      "source": [
        "<a href=\"https://colab.research.google.com/github/Halogen/Covid_predictor/blob/main/Datarobot_Interview.ipynb\" target=\"_parent\"><img src=\"https://colab.research.google.com/assets/colab-badge.svg\" alt=\"Open In Colab\"/></a>"
      ]
    },
    {
      "cell_type": "code",
      "metadata": {
        "colab": {
          "base_uri": "https://localhost:8080/"
        },
        "id": "PWp9luIKygaw",
        "outputId": "b43afe33-7c6a-43b6-9679-0f8f78983b04"
      },
      "source": [
        "##Importing neessary files from drive for the mlops developer package\n",
        "from google.colab import drive\n",
        "drive.mount('/content/drive')\n",
        "%cp - av /content/drive/MyDrive/datarobot_mlops_package-7.2.1-1074 (4).tar.gz"
      ],
      "execution_count": 1,
      "outputs": [
        {
          "output_type": "stream",
          "text": [
            "Mounted at /content/drive\n",
            "/bin/bash: -c: line 0: syntax error near unexpected token `('\n",
            "/bin/bash: -c: line 0: `cp - av /content/drive/MyDrive/datarobot_mlops_package-7.2.1-1074 (4).tar.gz'\n"
          ],
          "name": "stdout"
        }
      ]
    },
    {
      "cell_type": "code",
      "metadata": {
        "colab": {
          "base_uri": "https://localhost:8080/"
        },
        "id": "3oaNZSDAzMvh",
        "outputId": "6715e052-6e3a-4330-bb4a-50b52bb06487"
      },
      "source": [
        "%cp -av '/content/drive/MyDrive/datarobot_mlops_package-7.2.1-1074 (4).tar.gz' /content/"
      ],
      "execution_count": 2,
      "outputs": [
        {
          "output_type": "stream",
          "text": [
            "'/content/drive/MyDrive/datarobot_mlops_package-7.2.1-1074 (4).tar.gz' -> '/content/datarobot_mlops_package-7.2.1-1074 (4).tar.gz'\n"
          ],
          "name": "stdout"
        }
      ]
    },
    {
      "cell_type": "code",
      "metadata": {
        "colab": {
          "base_uri": "https://localhost:8080/"
        },
        "id": "mHwvGIukzP0C",
        "outputId": "e341abf9-1b6d-4e3d-cf98-97c402a9782b"
      },
      "source": [
        "#Un-tarring files\n",
        "import tarfile\n",
        "!tar xvzf  '/content/datarobot_mlops_package-7.2.1-1074 (4).tar.gz'"
      ],
      "execution_count": 3,
      "outputs": [
        {
          "output_type": "stream",
          "text": [
            "datarobot_mlops_package-7.2.1/\n",
            "datarobot_mlops_package-7.2.1/bin/\n",
            "datarobot_mlops_package-7.2.1/bin/bosun-java-plugin-runner.sh\n",
            "datarobot_mlops_package-7.2.1/bin/stop-bosun.sh\n",
            "datarobot_mlops_package-7.2.1/bin/start-bosun.sh\n",
            "datarobot_mlops_package-7.2.1/bin/start-agent.sh\n",
            "datarobot_mlops_package-7.2.1/bin/status-agent.sh\n",
            "datarobot_mlops_package-7.2.1/bin/run-agent-once.sh\n",
            "datarobot_mlops_package-7.2.1/bin/stop-agent.sh\n",
            "datarobot_mlops_package-7.2.1/bin/status-bosun.sh\n",
            "datarobot_mlops_package-7.2.1/logs/\n",
            "datarobot_mlops_package-7.2.1/logs/mlops.agent.log\n",
            "datarobot_mlops_package-7.2.1/.BUILD.info\n",
            "datarobot_mlops_package-7.2.1/HISTORY.md\n",
            "datarobot_mlops_package-7.2.1/README.md\n",
            "datarobot_mlops_package-7.2.1/conf/\n",
            "datarobot_mlops_package-7.2.1/conf/stdout.mlops.log4j2.properties\n",
            "datarobot_mlops_package-7.2.1/conf/plugin.filesystem.conf.yaml\n",
            "datarobot_mlops_package-7.2.1/conf/mlops.log4j2.properties\n",
            "datarobot_mlops_package-7.2.1/conf/mlops.bosun.log4j2.properties\n",
            "datarobot_mlops_package-7.2.1/conf/plugin.k8s.conf.yaml\n",
            "datarobot_mlops_package-7.2.1/conf/mlops.bosun.conf.yaml\n",
            "datarobot_mlops_package-7.2.1/conf/plugin.logging.conf.yaml\n",
            "datarobot_mlops_package-7.2.1/conf/mlops.agent.micronaut.yaml\n",
            "datarobot_mlops_package-7.2.1/conf/template-conf.yaml\n",
            "datarobot_mlops_package-7.2.1/conf/plugin.docker.conf.yaml\n",
            "datarobot_mlops_package-7.2.1/conf/mlops.agent.conf.yaml\n",
            "datarobot_mlops_package-7.2.1/tools/\n",
            "datarobot_mlops_package-7.2.1/tools/upload_actuals.py\n",
            "datarobot_mlops_package-7.2.1/tools/test_connectivity.py\n",
            "datarobot_mlops_package-7.2.1/tools/agent_docker/\n",
            "datarobot_mlops_package-7.2.1/tools/agent_docker/run.sh\n",
            "datarobot_mlops_package-7.2.1/tools/agent_docker/Dockerfile\n",
            "datarobot_mlops_package-7.2.1/tools/agent_docker/README.md\n",
            "datarobot_mlops_package-7.2.1/tools/agent_docker/entrypoint.sh\n",
            "datarobot_mlops_package-7.2.1/tools/agent_docker/Makefile\n",
            "datarobot_mlops_package-7.2.1/tools/charts/\n",
            "datarobot_mlops_package-7.2.1/tools/charts/arch3.png\n",
            "datarobot_mlops_package-7.2.1/tools/charts/pred1.png\n",
            "datarobot_mlops_package-7.2.1/tools/charts/datarobot-management-agent/\n",
            "datarobot_mlops_package-7.2.1/tools/charts/datarobot-management-agent/.helmignore\n",
            "datarobot_mlops_package-7.2.1/tools/charts/datarobot-management-agent/Chart.yaml\n",
            "datarobot_mlops_package-7.2.1/tools/charts/datarobot-management-agent/templates/\n",
            "datarobot_mlops_package-7.2.1/tools/charts/datarobot-management-agent/templates/_helpers.tpl\n",
            "datarobot_mlops_package-7.2.1/tools/charts/datarobot-management-agent/templates/bosun-serviceaccount.yaml\n",
            "datarobot_mlops_package-7.2.1/tools/charts/datarobot-management-agent/templates/bosun-deployment.yaml\n",
            "datarobot_mlops_package-7.2.1/tools/charts/datarobot-management-agent/templates/kaniko-rolebinding.yaml\n",
            "datarobot_mlops_package-7.2.1/tools/charts/datarobot-management-agent/templates/bosun-rolebinding.yaml\n",
            "datarobot_mlops_package-7.2.1/tools/charts/datarobot-management-agent/templates/bosun-configmap.yaml\n",
            "datarobot_mlops_package-7.2.1/tools/charts/datarobot-management-agent/templates/kaniko-psp.yaml\n",
            "datarobot_mlops_package-7.2.1/tools/charts/datarobot-management-agent/templates/bosun-role.yaml\n",
            "datarobot_mlops_package-7.2.1/tools/charts/datarobot-management-agent/templates/kaniko-role.yaml\n",
            "datarobot_mlops_package-7.2.1/tools/charts/datarobot-management-agent/templates/kaniko-serviceaccount.yaml\n",
            "datarobot_mlops_package-7.2.1/tools/charts/datarobot-management-agent/templates/NOTES.txt\n",
            "datarobot_mlops_package-7.2.1/tools/charts/datarobot-management-agent/values.yaml\n",
            "datarobot_mlops_package-7.2.1/tools/charts/datarobot-management-agent/examples/\n",
            "datarobot_mlops_package-7.2.1/tools/charts/datarobot-management-agent/examples/AKE_values.yaml\n",
            "datarobot_mlops_package-7.2.1/tools/charts/datarobot-management-agent/examples/minikube_values.yaml\n",
            "datarobot_mlops_package-7.2.1/tools/charts/datarobot-management-agent/examples/GKE_values.yaml\n",
            "datarobot_mlops_package-7.2.1/tools/charts/datarobot-management-agent/examples/EKS_values.yaml\n",
            "datarobot_mlops_package-7.2.1/tools/charts/pred2.png\n",
            "datarobot_mlops_package-7.2.1/tools/charts/README.md\n",
            "datarobot_mlops_package-7.2.1/tools/charts/acr-admin.png\n",
            "datarobot_mlops_package-7.2.1/tools/charts/arch2.png\n",
            "datarobot_mlops_package-7.2.1/tools/charts/arch0.png\n",
            "datarobot_mlops_package-7.2.1/tools/charts/arch1.png\n",
            "datarobot_mlops_package-7.2.1/tools/version.mk\n",
            "datarobot_mlops_package-7.2.1/tools/csv_modifier.py\n",
            "datarobot_mlops_package-7.2.1/tools/bosun_docker/\n",
            "datarobot_mlops_package-7.2.1/tools/bosun_docker/run.sh\n",
            "datarobot_mlops_package-7.2.1/tools/bosun_docker/Dockerfile\n",
            "datarobot_mlops_package-7.2.1/tools/bosun_docker/README.md\n",
            "datarobot_mlops_package-7.2.1/tools/bosun_docker/entrypoint.sh\n",
            "datarobot_mlops_package-7.2.1/tools/bosun_docker/Makefile\n",
            "datarobot_mlops_package-7.2.1/tools/mlops_client.py\n",
            "datarobot_mlops_package-7.2.1/tools/tools-java/\n",
            "datarobot_mlops_package-7.2.1/tools/tools-java/pom.xml\n",
            "datarobot_mlops_package-7.2.1/tools/tools-java/src/\n",
            "datarobot_mlops_package-7.2.1/tools/tools-java/src/main/\n",
            "datarobot_mlops_package-7.2.1/tools/tools-java/src/main/java/\n",
            "datarobot_mlops_package-7.2.1/tools/tools-java/src/main/java/com/\n",
            "datarobot_mlops_package-7.2.1/tools/tools-java/src/main/java/com/datarobot/\n",
            "datarobot_mlops_package-7.2.1/tools/tools-java/src/main/java/com/datarobot/mlops/\n",
            "datarobot_mlops_package-7.2.1/tools/tools-java/src/main/java/com/datarobot/mlops/tools/\n",
            "datarobot_mlops_package-7.2.1/tools/tools-java/src/main/java/com/datarobot/mlops/tools/GetCodeGenModelId.java\n",
            "datarobot_mlops_package-7.2.1/tools/tools-java/run_get_codegen_modelid.sh\n",
            "datarobot_mlops_package-7.2.1/tools/tools-java/Makefile\n",
            "datarobot_mlops_package-7.2.1/examples/\n",
            "datarobot_mlops_package-7.2.1/examples/java/\n",
            "datarobot_mlops_package-7.2.1/examples/java/install_jar_into_maven.sh\n",
            "datarobot_mlops_package-7.2.1/examples/java/SparkUtilsExample/\n",
            "datarobot_mlops_package-7.2.1/examples/java/SparkUtilsExample/pom.xml\n",
            "datarobot_mlops_package-7.2.1/examples/java/SparkUtilsExample/src/\n",
            "datarobot_mlops_package-7.2.1/examples/java/SparkUtilsExample/src/main/\n",
            "datarobot_mlops_package-7.2.1/examples/java/SparkUtilsExample/src/main/resources/\n",
            "datarobot_mlops_package-7.2.1/examples/java/SparkUtilsExample/src/main/resources/log4j2.xml\n",
            "datarobot_mlops_package-7.2.1/examples/java/SparkUtilsExample/src/main/scala/\n",
            "datarobot_mlops_package-7.2.1/examples/java/SparkUtilsExample/src/main/scala/com/\n",
            "datarobot_mlops_package-7.2.1/examples/java/SparkUtilsExample/src/main/scala/com/datarobot/\n",
            "datarobot_mlops_package-7.2.1/examples/java/SparkUtilsExample/src/main/scala/com/datarobot/dr_mlops_spark/\n",
            "datarobot_mlops_package-7.2.1/examples/java/SparkUtilsExample/src/main/scala/com/datarobot/dr_mlops_spark/Main.scala\n",
            "datarobot_mlops_package-7.2.1/examples/java/SparkUtilsExample/cleanup.sh\n",
            "datarobot_mlops_package-7.2.1/examples/java/SparkUtilsExample/verify_example.sh\n",
            "datarobot_mlops_package-7.2.1/examples/java/SparkUtilsExample/run_example.sh\n",
            "datarobot_mlops_package-7.2.1/examples/java/SparkUtilsExample/README.md\n",
            "datarobot_mlops_package-7.2.1/examples/java/SparkUtilsExample/create_deployment.sh\n",
            "datarobot_mlops_package-7.2.1/examples/java/SparkUtilsExample/Makefile\n",
            "datarobot_mlops_package-7.2.1/examples/java/PredictionsData/\n",
            "datarobot_mlops_package-7.2.1/examples/java/PredictionsData/pom.xml\n",
            "datarobot_mlops_package-7.2.1/examples/java/PredictionsData/src/\n",
            "datarobot_mlops_package-7.2.1/examples/java/PredictionsData/src/main/\n",
            "datarobot_mlops_package-7.2.1/examples/java/PredictionsData/src/main/java/\n",
            "datarobot_mlops_package-7.2.1/examples/java/PredictionsData/src/main/java/com/\n",
            "datarobot_mlops_package-7.2.1/examples/java/PredictionsData/src/main/java/com/datarobot/\n",
            "datarobot_mlops_package-7.2.1/examples/java/PredictionsData/src/main/java/com/datarobot/mlops/\n",
            "datarobot_mlops_package-7.2.1/examples/java/PredictionsData/src/main/java/com/datarobot/mlops/examples/\n",
            "datarobot_mlops_package-7.2.1/examples/java/PredictionsData/src/main/java/com/datarobot/mlops/examples/PredictionsData.java\n",
            "datarobot_mlops_package-7.2.1/examples/java/PredictionsData/src/main/resources/\n",
            "datarobot_mlops_package-7.2.1/examples/java/PredictionsData/src/main/resources/log4j2.xml\n",
            "datarobot_mlops_package-7.2.1/examples/java/PredictionsData/cleanup.sh\n",
            "datarobot_mlops_package-7.2.1/examples/java/PredictionsData/verify_example.sh\n",
            "datarobot_mlops_package-7.2.1/examples/java/PredictionsData/run_example.sh\n",
            "datarobot_mlops_package-7.2.1/examples/java/PredictionsData/README.md\n",
            "datarobot_mlops_package-7.2.1/examples/java/PredictionsData/create_deployment.sh\n",
            "datarobot_mlops_package-7.2.1/examples/java/PredictionsData/Makefile\n",
            "datarobot_mlops_package-7.2.1/examples/java/SparkExample/\n",
            "datarobot_mlops_package-7.2.1/examples/java/SparkExample/pom.xml\n",
            "datarobot_mlops_package-7.2.1/examples/java/SparkExample/src/\n",
            "datarobot_mlops_package-7.2.1/examples/java/SparkExample/src/main/\n",
            "datarobot_mlops_package-7.2.1/examples/java/SparkExample/src/main/resources/\n",
            "datarobot_mlops_package-7.2.1/examples/java/SparkExample/src/main/resources/log4j2.xml\n",
            "datarobot_mlops_package-7.2.1/examples/java/SparkExample/src/main/scala/\n",
            "datarobot_mlops_package-7.2.1/examples/java/SparkExample/src/main/scala/com/\n",
            "datarobot_mlops_package-7.2.1/examples/java/SparkExample/src/main/scala/com/datarobot/\n",
            "datarobot_mlops_package-7.2.1/examples/java/SparkExample/src/main/scala/com/datarobot/dr_mloa_spark/\n",
            "datarobot_mlops_package-7.2.1/examples/java/SparkExample/src/main/scala/com/datarobot/dr_mloa_spark/Main.scala\n",
            "datarobot_mlops_package-7.2.1/examples/java/SparkExample/cleanup.sh\n",
            "datarobot_mlops_package-7.2.1/examples/java/SparkExample/verify_example.sh\n",
            "datarobot_mlops_package-7.2.1/examples/java/SparkExample/run_example.sh\n",
            "datarobot_mlops_package-7.2.1/examples/java/SparkExample/README.md\n",
            "datarobot_mlops_package-7.2.1/examples/java/SparkExample/create_deployment.sh\n",
            "datarobot_mlops_package-7.2.1/examples/java/SparkExample/Makefile\n",
            "datarobot_mlops_package-7.2.1/examples/java/SingleCommandExample/\n",
            "datarobot_mlops_package-7.2.1/examples/java/SingleCommandExample/pom.xml\n",
            "datarobot_mlops_package-7.2.1/examples/java/SingleCommandExample/src/\n",
            "datarobot_mlops_package-7.2.1/examples/java/SingleCommandExample/src/main/\n",
            "datarobot_mlops_package-7.2.1/examples/java/SingleCommandExample/src/main/java/\n",
            "datarobot_mlops_package-7.2.1/examples/java/SingleCommandExample/src/main/java/com/\n",
            "datarobot_mlops_package-7.2.1/examples/java/SingleCommandExample/src/main/java/com/datarobot/\n",
            "datarobot_mlops_package-7.2.1/examples/java/SingleCommandExample/src/main/java/com/datarobot/mlops/\n",
            "datarobot_mlops_package-7.2.1/examples/java/SingleCommandExample/src/main/java/com/datarobot/mlops/examples/\n",
            "datarobot_mlops_package-7.2.1/examples/java/SingleCommandExample/src/main/java/com/datarobot/mlops/examples/SingleCommandExample.java\n",
            "datarobot_mlops_package-7.2.1/examples/java/SingleCommandExample/src/main/resources/\n",
            "datarobot_mlops_package-7.2.1/examples/java/SingleCommandExample/src/main/resources/log4j2.xml\n",
            "datarobot_mlops_package-7.2.1/examples/java/SingleCommandExample/cleanup.sh\n",
            "datarobot_mlops_package-7.2.1/examples/java/SingleCommandExample/verify_example.sh\n",
            "datarobot_mlops_package-7.2.1/examples/java/SingleCommandExample/run_example.sh\n",
            "datarobot_mlops_package-7.2.1/examples/java/SingleCommandExample/README.md\n",
            "datarobot_mlops_package-7.2.1/examples/java/SingleCommandExample/config.sh\n",
            "datarobot_mlops_package-7.2.1/examples/java/SingleCommandExample/create_deployment.sh\n",
            "datarobot_mlops_package-7.2.1/examples/java/SingleCommandExample/Makefile\n",
            "datarobot_mlops_package-7.2.1/examples/java/README\n",
            "datarobot_mlops_package-7.2.1/examples/java/SampleCode/\n",
            "datarobot_mlops_package-7.2.1/examples/java/SampleCode/pom.xml\n",
            "datarobot_mlops_package-7.2.1/examples/java/SampleCode/src/\n",
            "datarobot_mlops_package-7.2.1/examples/java/SampleCode/src/main/\n",
            "datarobot_mlops_package-7.2.1/examples/java/SampleCode/src/main/java/\n",
            "datarobot_mlops_package-7.2.1/examples/java/SampleCode/src/main/java/com/\n",
            "datarobot_mlops_package-7.2.1/examples/java/SampleCode/src/main/java/com/datarobot/\n",
            "datarobot_mlops_package-7.2.1/examples/java/SampleCode/src/main/java/com/datarobot/mlops/\n",
            "datarobot_mlops_package-7.2.1/examples/java/SampleCode/src/main/java/com/datarobot/mlops/examples/\n",
            "datarobot_mlops_package-7.2.1/examples/java/SampleCode/src/main/java/com/datarobot/mlops/examples/RegressionSampleCode.java\n",
            "datarobot_mlops_package-7.2.1/examples/java/SampleCode/README.md\n",
            "datarobot_mlops_package-7.2.1/examples/java/SampleCode/Makefile\n",
            "datarobot_mlops_package-7.2.1/examples/java/CodeGenExample/\n",
            "datarobot_mlops_package-7.2.1/examples/java/CodeGenExample/pom.xml\n",
            "datarobot_mlops_package-7.2.1/examples/java/CodeGenExample/src/\n",
            "datarobot_mlops_package-7.2.1/examples/java/CodeGenExample/src/main/\n",
            "datarobot_mlops_package-7.2.1/examples/java/CodeGenExample/src/main/java/\n",
            "datarobot_mlops_package-7.2.1/examples/java/CodeGenExample/src/main/java/com/\n",
            "datarobot_mlops_package-7.2.1/examples/java/CodeGenExample/src/main/java/com/datarobot/\n",
            "datarobot_mlops_package-7.2.1/examples/java/CodeGenExample/src/main/java/com/datarobot/mlops/\n",
            "datarobot_mlops_package-7.2.1/examples/java/CodeGenExample/src/main/java/com/datarobot/mlops/examples/\n",
            "datarobot_mlops_package-7.2.1/examples/java/CodeGenExample/src/main/java/com/datarobot/mlops/examples/CodeGenExample.java\n",
            "datarobot_mlops_package-7.2.1/examples/java/CodeGenExample/src/main/resources/\n",
            "datarobot_mlops_package-7.2.1/examples/java/CodeGenExample/src/main/resources/log4j2.xml\n",
            "datarobot_mlops_package-7.2.1/examples/java/CodeGenExample/cleanup.sh\n",
            "datarobot_mlops_package-7.2.1/examples/java/CodeGenExample/verify_example.sh\n",
            "datarobot_mlops_package-7.2.1/examples/java/CodeGenExample/run_example.sh\n",
            "datarobot_mlops_package-7.2.1/examples/java/CodeGenExample/README.md\n",
            "datarobot_mlops_package-7.2.1/examples/java/CodeGenExample/create_deployment.sh\n",
            "datarobot_mlops_package-7.2.1/examples/java/CodeGenExample/Makefile\n",
            "datarobot_mlops_package-7.2.1/examples/java/Makefile\n",
            "datarobot_mlops_package-7.2.1/examples/python/\n",
            "datarobot_mlops_package-7.2.1/examples/python/MulticlassExample/\n",
            "datarobot_mlops_package-7.2.1/examples/python/MulticlassExample/mlops_example.py\n",
            "datarobot_mlops_package-7.2.1/examples/python/MulticlassExample/cleanup.sh\n",
            "datarobot_mlops_package-7.2.1/examples/python/MulticlassExample/upload_actuals.sh\n",
            "datarobot_mlops_package-7.2.1/examples/python/MulticlassExample/verify_example.sh\n",
            "datarobot_mlops_package-7.2.1/examples/python/MulticlassExample/run_example.sh\n",
            "datarobot_mlops_package-7.2.1/examples/python/MulticlassExample/README.md\n",
            "datarobot_mlops_package-7.2.1/examples/python/MulticlassExample/replace_model_package.sh\n",
            "datarobot_mlops_package-7.2.1/examples/python/MulticlassExample/create_deployment.sh\n",
            "datarobot_mlops_package-7.2.1/examples/python/PySparkExample/\n",
            "datarobot_mlops_package-7.2.1/examples/python/PySparkExample/pyspark_codegen.py\n",
            "datarobot_mlops_package-7.2.1/examples/python/PySparkExample/cleanup.sh\n",
            "datarobot_mlops_package-7.2.1/examples/python/PySparkExample/verify_example.sh\n",
            "datarobot_mlops_package-7.2.1/examples/python/PySparkExample/run_example.sh\n",
            "datarobot_mlops_package-7.2.1/examples/python/PySparkExample/README.md\n",
            "datarobot_mlops_package-7.2.1/examples/python/PySparkExample/create_deployment.sh\n",
            "datarobot_mlops_package-7.2.1/examples/python/README.md\n",
            "datarobot_mlops_package-7.2.1/examples/python/SingleCommandExample/\n",
            "datarobot_mlops_package-7.2.1/examples/python/SingleCommandExample/mlops_example.py\n",
            "datarobot_mlops_package-7.2.1/examples/python/SingleCommandExample/cleanup.sh\n",
            "datarobot_mlops_package-7.2.1/examples/python/SingleCommandExample/verify_example.sh\n",
            "datarobot_mlops_package-7.2.1/examples/python/SingleCommandExample/run_example.sh\n",
            "datarobot_mlops_package-7.2.1/examples/python/SingleCommandExample/README.md\n",
            "datarobot_mlops_package-7.2.1/examples/python/SingleCommandExample/config.sh\n",
            "datarobot_mlops_package-7.2.1/examples/python/SingleCommandExample/create_deployment.sh\n",
            "datarobot_mlops_package-7.2.1/examples/python/BinaryClassificationExample/\n",
            "datarobot_mlops_package-7.2.1/examples/python/BinaryClassificationExample/cleanup.sh\n",
            "datarobot_mlops_package-7.2.1/examples/python/BinaryClassificationExample/verify_example.sh\n",
            "datarobot_mlops_package-7.2.1/examples/python/BinaryClassificationExample/run_example.sh\n",
            "datarobot_mlops_package-7.2.1/examples/python/BinaryClassificationExample/README.md\n",
            "datarobot_mlops_package-7.2.1/examples/python/BinaryClassificationExample/binary_classification.py\n",
            "datarobot_mlops_package-7.2.1/examples/python/BinaryClassificationExample/create_deployment.sh\n",
            "datarobot_mlops_package-7.2.1/examples/python/requirements.txt\n",
            "datarobot_mlops_package-7.2.1/examples/python/SampleCode/\n",
            "datarobot_mlops_package-7.2.1/examples/python/SampleCode/regression_sample_code.py\n",
            "datarobot_mlops_package-7.2.1/examples/python/SampleCode/actuals_demo.py\n",
            "datarobot_mlops_package-7.2.1/examples/examples_config_helper.sh\n",
            "datarobot_mlops_package-7.2.1/examples/model_config/\n",
            "datarobot_mlops_package-7.2.1/examples/model_config/lending_club_regression.json\n",
            "datarobot_mlops_package-7.2.1/examples/model_config/iris_multi_classification.json\n",
            "datarobot_mlops_package-7.2.1/examples/model_config/surgical_binary_classification.json\n",
            "datarobot_mlops_package-7.2.1/examples/model_config/iris_multi_classification_updated.json\n",
            "datarobot_mlops_package-7.2.1/examples/cleanup.sh\n",
            "datarobot_mlops_package-7.2.1/examples/prediction_environment_config/\n",
            "datarobot_mlops_package-7.2.1/examples/prediction_environment_config/test_pe.json\n",
            "datarobot_mlops_package-7.2.1/examples/models/\n",
            "datarobot_mlops_package-7.2.1/examples/models/CodeGenLendingClubRegressor.jar\n",
            "datarobot_mlops_package-7.2.1/examples/data/\n",
            "datarobot_mlops_package-7.2.1/examples/data/mlops-example-iris-samples.csv\n",
            "datarobot_mlops_package-7.2.1/examples/data/mlops-example-lending-club-regression.csv\n",
            "datarobot_mlops_package-7.2.1/examples/data/mlops-example-short-lending-club-regression.csv\n",
            "datarobot_mlops_package-7.2.1/examples/data/mlops-example-surgical-dataset.csv\n",
            "datarobot_mlops_package-7.2.1/examples/README\n",
            "datarobot_mlops_package-7.2.1/examples/Makefile\n",
            "datarobot_mlops_package-7.2.1/LICENSE.txt\n",
            "datarobot_mlops_package-7.2.1/lib/\n",
            "datarobot_mlops_package-7.2.1/lib/datarobot-mlops-7.2.1.jar\n",
            "datarobot_mlops_package-7.2.1/lib/mlops-bosun-plugin-runner-7.2.1.jar\n",
            "datarobot_mlops_package-7.2.1/lib/requirements_bosun.txt\n",
            "datarobot_mlops_package-7.2.1/lib/datarobot_mlops-7.2.1-py2.py3-none-any.whl\n",
            "datarobot_mlops_package-7.2.1/lib/datarobot.mlops_7.2.1-r.tar.gz\n",
            "datarobot_mlops_package-7.2.1/lib/datarobot_bosun-7.2.1-py2.py3-none-any.whl\n",
            "datarobot_mlops_package-7.2.1/lib/datarobot_mlops_connected_client-7.2.1-py2.py3-none-any.whl\n",
            "datarobot_mlops_package-7.2.1/lib/mlops-agent-7.2.1.jar\n",
            "datarobot_mlops_package-7.2.1/docs/\n",
            "datarobot_mlops_package-7.2.1/docs/html/\n",
            "datarobot_mlops_package-7.2.1/docs/html/.doctrees/\n",
            "datarobot_mlops_package-7.2.1/docs/html/.doctrees/agent_configuration.doctree\n",
            "datarobot_mlops_package-7.2.1/docs/html/.doctrees/mlops_python.doctree\n",
            "datarobot_mlops_package-7.2.1/docs/html/.doctrees/index.doctree\n",
            "datarobot_mlops_package-7.2.1/docs/html/.doctrees/java_api.doctree\n",
            "datarobot_mlops_package-7.2.1/docs/html/.doctrees/mlops_java.doctree\n",
            "datarobot_mlops_package-7.2.1/docs/html/.doctrees/agent_installation.doctree\n",
            "datarobot_mlops_package-7.2.1/docs/html/.doctrees/overview.doctree\n",
            "datarobot_mlops_package-7.2.1/docs/html/.doctrees/java_installation.doctree\n",
            "datarobot_mlops_package-7.2.1/docs/html/.doctrees/release_notes.doctree\n",
            "datarobot_mlops_package-7.2.1/docs/html/.doctrees/environment_vars.doctree\n",
            "datarobot_mlops_package-7.2.1/docs/html/.doctrees/python_installation.doctree\n",
            "datarobot_mlops_package-7.2.1/docs/html/.doctrees/quickstart.doctree\n",
            "datarobot_mlops_package-7.2.1/docs/html/.doctrees/python_examples.doctree\n",
            "datarobot_mlops_package-7.2.1/docs/html/.doctrees/python_api.doctree\n",
            "datarobot_mlops_package-7.2.1/docs/html/.doctrees/mlops_client.doctree\n",
            "datarobot_mlops_package-7.2.1/docs/html/.doctrees/java_examples.doctree\n",
            "datarobot_mlops_package-7.2.1/docs/html/.doctrees/java_spark_api.doctree\n",
            "datarobot_mlops_package-7.2.1/docs/html/.doctrees/spooler_configuration.doctree\n",
            "datarobot_mlops_package-7.2.1/docs/html/.doctrees/agent.doctree\n",
            "datarobot_mlops_package-7.2.1/docs/html/.doctrees/create_deployment.doctree\n",
            "datarobot_mlops_package-7.2.1/docs/html/.doctrees/mlops_lib.doctree\n",
            "datarobot_mlops_package-7.2.1/docs/html/.doctrees/examples.doctree\n",
            "datarobot_mlops_package-7.2.1/docs/html/.doctrees/environment.pickle\n",
            "datarobot_mlops_package-7.2.1/docs/html/java_spark_api.html\n",
            "datarobot_mlops_package-7.2.1/docs/html/overview.html\n",
            "datarobot_mlops_package-7.2.1/docs/html/genindex.html\n",
            "datarobot_mlops_package-7.2.1/docs/html/objects.inv\n",
            "datarobot_mlops_package-7.2.1/docs/html/mlops_python.html\n",
            "datarobot_mlops_package-7.2.1/docs/html/searchindex.js\n",
            "datarobot_mlops_package-7.2.1/docs/html/quickstart.html\n",
            "datarobot_mlops_package-7.2.1/docs/html/python_examples.html\n",
            "datarobot_mlops_package-7.2.1/docs/html/environment_vars.html\n",
            "datarobot_mlops_package-7.2.1/docs/html/python_api.html\n",
            "datarobot_mlops_package-7.2.1/docs/html/agent_configuration.html\n",
            "datarobot_mlops_package-7.2.1/docs/html/java_examples.html\n",
            "datarobot_mlops_package-7.2.1/docs/html/spooler_configuration.html\n",
            "datarobot_mlops_package-7.2.1/docs/html/_sources/\n",
            "datarobot_mlops_package-7.2.1/docs/html/_sources/mlops_client.rst.txt\n",
            "datarobot_mlops_package-7.2.1/docs/html/_sources/python_examples.rst.txt\n",
            "datarobot_mlops_package-7.2.1/docs/html/_sources/agent.rst.txt\n",
            "datarobot_mlops_package-7.2.1/docs/html/_sources/create_deployment.rst.txt\n",
            "datarobot_mlops_package-7.2.1/docs/html/_sources/quickstart.rst.txt\n",
            "datarobot_mlops_package-7.2.1/docs/html/_sources/java_installation.rst.txt\n",
            "datarobot_mlops_package-7.2.1/docs/html/_sources/mlops_java.rst.txt\n",
            "datarobot_mlops_package-7.2.1/docs/html/_sources/python_installation.rst.txt\n",
            "datarobot_mlops_package-7.2.1/docs/html/_sources/agent_configuration.rst.txt\n",
            "datarobot_mlops_package-7.2.1/docs/html/_sources/java_api.rst.txt\n",
            "datarobot_mlops_package-7.2.1/docs/html/_sources/environment_vars.rst.txt\n",
            "datarobot_mlops_package-7.2.1/docs/html/_sources/examples.rst.txt\n",
            "datarobot_mlops_package-7.2.1/docs/html/_sources/mlops_lib.rst.txt\n",
            "datarobot_mlops_package-7.2.1/docs/html/_sources/release_notes.rst.txt\n",
            "datarobot_mlops_package-7.2.1/docs/html/_sources/agent_installation.rst.txt\n",
            "datarobot_mlops_package-7.2.1/docs/html/_sources/java_examples.rst.txt\n",
            "datarobot_mlops_package-7.2.1/docs/html/_sources/spooler_configuration.rst.txt\n",
            "datarobot_mlops_package-7.2.1/docs/html/_sources/java_spark_api.rst.txt\n",
            "datarobot_mlops_package-7.2.1/docs/html/_sources/index.rst.txt\n",
            "datarobot_mlops_package-7.2.1/docs/html/_sources/python_api.rst.txt\n",
            "datarobot_mlops_package-7.2.1/docs/html/_sources/mlops_python.rst.txt\n",
            "datarobot_mlops_package-7.2.1/docs/html/_sources/overview.rst.txt\n",
            "datarobot_mlops_package-7.2.1/docs/html/_static/\n",
            "datarobot_mlops_package-7.2.1/docs/html/_static/minus.png\n",
            "datarobot_mlops_package-7.2.1/docs/html/_static/pygments.css\n",
            "datarobot_mlops_package-7.2.1/docs/html/_static/comment-close.png\n",
            "datarobot_mlops_package-7.2.1/docs/html/_static/doctools.js\n",
            "datarobot_mlops_package-7.2.1/docs/html/_static/up.png\n",
            "datarobot_mlops_package-7.2.1/docs/html/_static/down-pressed.png\n",
            "datarobot_mlops_package-7.2.1/docs/html/_static/basic.css\n",
            "datarobot_mlops_package-7.2.1/docs/html/_static/jquery-3.2.1.js\n",
            "datarobot_mlops_package-7.2.1/docs/html/_static/down.png\n",
            "datarobot_mlops_package-7.2.1/docs/html/_static/fonts/\n",
            "datarobot_mlops_package-7.2.1/docs/html/_static/fonts/Lato/\n",
            "datarobot_mlops_package-7.2.1/docs/html/_static/fonts/Lato/lato-italic.eot\n",
            "datarobot_mlops_package-7.2.1/docs/html/_static/fonts/Lato/lato-regular.ttf\n",
            "datarobot_mlops_package-7.2.1/docs/html/_static/fonts/Lato/lato-regular.eot\n",
            "datarobot_mlops_package-7.2.1/docs/html/_static/fonts/Lato/lato-bold.eot\n",
            "datarobot_mlops_package-7.2.1/docs/html/_static/fonts/Lato/lato-bold.ttf\n",
            "datarobot_mlops_package-7.2.1/docs/html/_static/fonts/Lato/lato-bolditalic.eot\n",
            "datarobot_mlops_package-7.2.1/docs/html/_static/fonts/Lato/lato-italic.woff\n",
            "datarobot_mlops_package-7.2.1/docs/html/_static/fonts/Lato/lato-bolditalic.woff\n",
            "datarobot_mlops_package-7.2.1/docs/html/_static/fonts/Lato/lato-bold.woff\n",
            "datarobot_mlops_package-7.2.1/docs/html/_static/fonts/Lato/lato-bold.woff2\n",
            "datarobot_mlops_package-7.2.1/docs/html/_static/fonts/Lato/lato-bolditalic.ttf\n",
            "datarobot_mlops_package-7.2.1/docs/html/_static/fonts/Lato/lato-regular.woff2\n",
            "datarobot_mlops_package-7.2.1/docs/html/_static/fonts/Lato/lato-italic.ttf\n",
            "datarobot_mlops_package-7.2.1/docs/html/_static/fonts/Lato/lato-italic.woff2\n",
            "datarobot_mlops_package-7.2.1/docs/html/_static/fonts/Lato/lato-bolditalic.woff2\n",
            "datarobot_mlops_package-7.2.1/docs/html/_static/fonts/Lato/lato-regular.woff\n",
            "datarobot_mlops_package-7.2.1/docs/html/_static/fonts/fontawesome-webfont.svg\n",
            "datarobot_mlops_package-7.2.1/docs/html/_static/fonts/fontawesome-webfont.woff\n",
            "datarobot_mlops_package-7.2.1/docs/html/_static/fonts/RobotoSlab/\n",
            "datarobot_mlops_package-7.2.1/docs/html/_static/fonts/RobotoSlab/roboto-slab-v7-bold.woff\n",
            "datarobot_mlops_package-7.2.1/docs/html/_static/fonts/RobotoSlab/roboto-slab-v7-regular.eot\n",
            "datarobot_mlops_package-7.2.1/docs/html/_static/fonts/RobotoSlab/roboto-slab-v7-bold.woff2\n",
            "datarobot_mlops_package-7.2.1/docs/html/_static/fonts/RobotoSlab/roboto-slab-v7-bold.ttf\n",
            "datarobot_mlops_package-7.2.1/docs/html/_static/fonts/RobotoSlab/roboto-slab-v7-regular.ttf\n",
            "datarobot_mlops_package-7.2.1/docs/html/_static/fonts/RobotoSlab/roboto-slab-v7-bold.eot\n",
            "datarobot_mlops_package-7.2.1/docs/html/_static/fonts/RobotoSlab/roboto-slab-v7-regular.woff\n",
            "datarobot_mlops_package-7.2.1/docs/html/_static/fonts/RobotoSlab/roboto-slab-v7-regular.woff2\n",
            "datarobot_mlops_package-7.2.1/docs/html/_static/fonts/Inconsolata.ttf\n",
            "datarobot_mlops_package-7.2.1/docs/html/_static/fonts/fontawesome-webfont.woff2\n",
            "datarobot_mlops_package-7.2.1/docs/html/_static/fonts/Inconsolata-Bold.ttf\n",
            "datarobot_mlops_package-7.2.1/docs/html/_static/fonts/Inconsolata-Regular.ttf\n",
            "datarobot_mlops_package-7.2.1/docs/html/_static/fonts/fontawesome-webfont.ttf\n",
            "datarobot_mlops_package-7.2.1/docs/html/_static/fonts/Lato-Bold.ttf\n",
            "datarobot_mlops_package-7.2.1/docs/html/_static/fonts/RobotoSlab-Bold.ttf\n",
            "datarobot_mlops_package-7.2.1/docs/html/_static/fonts/RobotoSlab-Regular.ttf\n",
            "datarobot_mlops_package-7.2.1/docs/html/_static/fonts/Lato-Regular.ttf\n",
            "datarobot_mlops_package-7.2.1/docs/html/_static/fonts/fontawesome-webfont.eot\n",
            "datarobot_mlops_package-7.2.1/docs/html/_static/css/\n",
            "datarobot_mlops_package-7.2.1/docs/html/_static/css/theme.css\n",
            "datarobot_mlops_package-7.2.1/docs/html/_static/css/badge_only.css\n",
            "datarobot_mlops_package-7.2.1/docs/html/_static/css/fonts/\n",
            "datarobot_mlops_package-7.2.1/docs/html/_static/css/fonts/fontawesome-webfont.svg\n",
            "datarobot_mlops_package-7.2.1/docs/html/_static/css/fonts/fontawesome-webfont.woff\n",
            "datarobot_mlops_package-7.2.1/docs/html/_static/css/fonts/lato-normal.woff2\n",
            "datarobot_mlops_package-7.2.1/docs/html/_static/css/fonts/lato-normal-italic.woff2\n",
            "datarobot_mlops_package-7.2.1/docs/html/_static/css/fonts/lato-bold-italic.woff2\n",
            "datarobot_mlops_package-7.2.1/docs/html/_static/css/fonts/fontawesome-webfont.woff2\n",
            "datarobot_mlops_package-7.2.1/docs/html/_static/css/fonts/lato-normal.woff\n",
            "datarobot_mlops_package-7.2.1/docs/html/_static/css/fonts/fontawesome-webfont.ttf\n",
            "datarobot_mlops_package-7.2.1/docs/html/_static/css/fonts/Roboto-Slab-Bold.woff\n",
            "datarobot_mlops_package-7.2.1/docs/html/_static/css/fonts/lato-bold-italic.woff\n",
            "datarobot_mlops_package-7.2.1/docs/html/_static/css/fonts/lato-normal-italic.woff\n",
            "datarobot_mlops_package-7.2.1/docs/html/_static/css/fonts/Roboto-Slab-Regular.woff\n",
            "datarobot_mlops_package-7.2.1/docs/html/_static/css/fonts/lato-bold.woff\n",
            "datarobot_mlops_package-7.2.1/docs/html/_static/css/fonts/lato-bold.woff2\n",
            "datarobot_mlops_package-7.2.1/docs/html/_static/css/fonts/Roboto-Slab-Bold.woff2\n",
            "datarobot_mlops_package-7.2.1/docs/html/_static/css/fonts/Roboto-Slab-Regular.woff2\n",
            "datarobot_mlops_package-7.2.1/docs/html/_static/css/fonts/fontawesome-webfont.eot\n",
            "datarobot_mlops_package-7.2.1/docs/html/_static/up-pressed.png\n",
            "datarobot_mlops_package-7.2.1/docs/html/_static/plus.png\n",
            "datarobot_mlops_package-7.2.1/docs/html/_static/file.png\n",
            "datarobot_mlops_package-7.2.1/docs/html/_static/js/\n",
            "datarobot_mlops_package-7.2.1/docs/html/_static/js/html5shiv.min.js\n",
            "datarobot_mlops_package-7.2.1/docs/html/_static/js/modernizr.min.js\n",
            "datarobot_mlops_package-7.2.1/docs/html/_static/js/theme.js\n",
            "datarobot_mlops_package-7.2.1/docs/html/_static/js/html5shiv-printshiv.min.js\n",
            "datarobot_mlops_package-7.2.1/docs/html/_static/js/badge_only.js\n",
            "datarobot_mlops_package-7.2.1/docs/html/_static/searchtools.js\n",
            "datarobot_mlops_package-7.2.1/docs/html/_static/ajax-loader.gif\n",
            "datarobot_mlops_package-7.2.1/docs/html/_static/underscore.js\n",
            "datarobot_mlops_package-7.2.1/docs/html/_static/websupport.js\n",
            "datarobot_mlops_package-7.2.1/docs/html/_static/comment-bright.png\n",
            "datarobot_mlops_package-7.2.1/docs/html/_static/underscore-1.3.1.js\n",
            "datarobot_mlops_package-7.2.1/docs/html/_static/comment.png\n",
            "datarobot_mlops_package-7.2.1/docs/html/_static/jquery.js\n",
            "datarobot_mlops_package-7.2.1/docs/html/java_installation.html\n",
            "datarobot_mlops_package-7.2.1/docs/html/mlops_lib.html\n",
            "datarobot_mlops_package-7.2.1/docs/html/java_api.html\n",
            "datarobot_mlops_package-7.2.1/docs/html/index.html\n",
            "datarobot_mlops_package-7.2.1/docs/html/agent_installation.html\n",
            "datarobot_mlops_package-7.2.1/docs/html/mlops_java.html\n",
            "datarobot_mlops_package-7.2.1/docs/html/mlops_client.html\n",
            "datarobot_mlops_package-7.2.1/docs/html/examples.html\n",
            "datarobot_mlops_package-7.2.1/docs/html/_modules/\n",
            "datarobot_mlops_package-7.2.1/docs/html/_modules/index.html\n",
            "datarobot_mlops_package-7.2.1/docs/html/_modules/datarobot/\n",
            "datarobot_mlops_package-7.2.1/docs/html/_modules/datarobot/mlops/\n",
            "datarobot_mlops_package-7.2.1/docs/html/_modules/datarobot/mlops/mlops.html\n",
            "datarobot_mlops_package-7.2.1/docs/html/_modules/datarobot/mlops/connected/\n",
            "datarobot_mlops_package-7.2.1/docs/html/_modules/datarobot/mlops/connected/client.html\n",
            "datarobot_mlops_package-7.2.1/docs/html/_modules/datarobot/mlops/connected/enums.html\n",
            "datarobot_mlops_package-7.2.1/docs/html/_modules/datarobot/mlops/common/\n",
            "datarobot_mlops_package-7.2.1/docs/html/_modules/datarobot/mlops/common/enums.html\n",
            "datarobot_mlops_package-7.2.1/docs/html/agent.html\n",
            "datarobot_mlops_package-7.2.1/docs/html/search.html\n",
            "datarobot_mlops_package-7.2.1/docs/html/release_notes.html\n",
            "datarobot_mlops_package-7.2.1/docs/html/python_installation.html\n",
            "datarobot_mlops_package-7.2.1/docs/html/create_deployment.html\n",
            "datarobot_mlops_package-7.2.1/docs/html/.buildinfo\n"
          ],
          "name": "stdout"
        }
      ]
    },
    {
      "cell_type": "code",
      "metadata": {
        "colab": {
          "base_uri": "https://localhost:8080/"
        },
        "id": "iwqEbD1Zzfhy",
        "outputId": "d41c19aa-aac9-4ddc-8f66-927ecc6e41d2"
      },
      "source": [
        "#Adding\n",
        "import os\n",
        "!mkdir -p tmp/ta\n",
        "!ls -l\n",
        "%cd '/content/datarobot_mlops_package-7.2.1/'\n",
        "!pwd"
      ],
      "execution_count": 4,
      "outputs": [
        {
          "output_type": "stream",
          "text": [
            "total 183080\n",
            "drwxr-xr-x 9 1001 1001      4096 Jun 11 02:05  datarobot_mlops_package-7.2.1\n",
            "-rw------- 1 root root 187452328 Jul 28 04:58 'datarobot_mlops_package-7.2.1-1074 (4).tar.gz'\n",
            "drwx------ 6 root root      4096 Jul 30 00:24  drive\n",
            "drwxr-xr-x 1 root root      4096 Jul 16 13:20  sample_data\n",
            "drwxr-xr-x 3 root root      4096 Jul 30 00:26  tmp\n",
            "/content/datarobot_mlops_package-7.2.1\n",
            "/content/datarobot_mlops_package-7.2.1\n"
          ],
          "name": "stdout"
        }
      ]
    },
    {
      "cell_type": "code",
      "metadata": {
        "colab": {
          "base_uri": "https://localhost:8080/"
        },
        "id": "2s_aDJm9zlhf",
        "outputId": "6a279b45-665d-4743-d339-b847c7f542e1"
      },
      "source": [
        "#InstallinG MLOps library ( Making sure to install the one for connected client as well!)\n",
        "!pip install lib/datarobot_mlops-7.2.1-py2.py3-none-any.whl\n",
        "!pip install lib/datarobot_mlops_connected_client-7.2.1-py2.py3-none-any.whl"
      ],
      "execution_count": 10,
      "outputs": [
        {
          "output_type": "stream",
          "text": [
            "Processing ./lib/datarobot_mlops-7.2.1-py2.py3-none-any.whl\n",
            "Requirement already satisfied: deprecation<3,>=2.1.0 in /usr/local/lib/python3.7/dist-packages (from datarobot-mlops==7.2.1) (2.1.0)\n",
            "Requirement already satisfied: pika<1,>=0.13.1 in /usr/local/lib/python3.7/dist-packages (from datarobot-mlops==7.2.1) (0.13.1)\n",
            "Requirement already satisfied: future>=0.16 in /usr/local/lib/python3.7/dist-packages (from datarobot-mlops==7.2.1) (0.16.0)\n",
            "Requirement already satisfied: python-dateutil in /usr/local/lib/python3.7/dist-packages (from datarobot-mlops==7.2.1) (2.8.1)\n",
            "Requirement already satisfied: boto3<2,>=1.11.4 in /usr/local/lib/python3.7/dist-packages (from datarobot-mlops==7.2.1) (1.18.10)\n",
            "Requirement already satisfied: pandas in /usr/local/lib/python3.7/dist-packages (from datarobot-mlops==7.2.1) (1.1.5)\n",
            "Requirement already satisfied: requests in /usr/local/lib/python3.7/dist-packages (from datarobot-mlops==7.2.1) (2.23.0)\n",
            "Requirement already satisfied: datarobot in /usr/local/lib/python3.7/dist-packages (from datarobot-mlops==7.2.1) (2.25.0)\n",
            "Requirement already satisfied: py4j<1,>=0.10.9.1 in /usr/local/lib/python3.7/dist-packages (from datarobot-mlops==7.2.1) (0.10.9.2)\n",
            "Requirement already satisfied: jmespath<1.0.0,>=0.7.1 in /usr/local/lib/python3.7/dist-packages (from boto3<2,>=1.11.4->datarobot-mlops==7.2.1) (0.10.0)\n",
            "Requirement already satisfied: botocore<1.22.0,>=1.21.10 in /usr/local/lib/python3.7/dist-packages (from boto3<2,>=1.11.4->datarobot-mlops==7.2.1) (1.21.10)\n",
            "Requirement already satisfied: s3transfer<0.6.0,>=0.5.0 in /usr/local/lib/python3.7/dist-packages (from boto3<2,>=1.11.4->datarobot-mlops==7.2.1) (0.5.0)\n",
            "Requirement already satisfied: urllib3<1.27,>=1.25.4 in /usr/local/lib/python3.7/dist-packages (from botocore<1.22.0,>=1.21.10->boto3<2,>=1.11.4->datarobot-mlops==7.2.1) (1.25.11)\n",
            "Requirement already satisfied: packaging in /usr/local/lib/python3.7/dist-packages (from deprecation<3,>=2.1.0->datarobot-mlops==7.2.1) (21.0)\n",
            "Requirement already satisfied: six>=1.5 in /usr/local/lib/python3.7/dist-packages (from python-dateutil->datarobot-mlops==7.2.1) (1.15.0)\n",
            "Requirement already satisfied: attrs<20.0,>=19.1.0 in /usr/local/lib/python3.7/dist-packages (from datarobot->datarobot-mlops==7.2.1) (19.3.0)\n",
            "Requirement already satisfied: requests-toolbelt>=0.6 in /usr/local/lib/python3.7/dist-packages (from datarobot->datarobot-mlops==7.2.1) (0.9.1)\n",
            "Requirement already satisfied: pyyaml>=3.11 in /usr/local/lib/python3.7/dist-packages (from datarobot->datarobot-mlops==7.2.1) (3.13)\n",
            "Requirement already satisfied: trafaret!=1.1.0,<2.0,>=0.7 in /usr/local/lib/python3.7/dist-packages (from datarobot->datarobot-mlops==7.2.1) (1.2.0)\n",
            "Requirement already satisfied: contextlib2>=0.5.5 in /usr/local/lib/python3.7/dist-packages (from datarobot->datarobot-mlops==7.2.1) (0.5.5)\n",
            "Requirement already satisfied: pytz>=2017.2 in /usr/local/lib/python3.7/dist-packages (from pandas->datarobot-mlops==7.2.1) (2018.9)\n",
            "Requirement already satisfied: numpy>=1.15.4 in /usr/local/lib/python3.7/dist-packages (from pandas->datarobot-mlops==7.2.1) (1.19.5)\n",
            "Requirement already satisfied: chardet<4,>=3.0.2 in /usr/local/lib/python3.7/dist-packages (from requests->datarobot-mlops==7.2.1) (3.0.4)\n",
            "Requirement already satisfied: idna<3,>=2.5 in /usr/local/lib/python3.7/dist-packages (from requests->datarobot-mlops==7.2.1) (2.10)\n",
            "Requirement already satisfied: certifi>=2017.4.17 in /usr/local/lib/python3.7/dist-packages (from requests->datarobot-mlops==7.2.1) (2021.5.30)\n",
            "Requirement already satisfied: pyparsing>=2.0.2 in /usr/local/lib/python3.7/dist-packages (from packaging->deprecation<3,>=2.1.0->datarobot-mlops==7.2.1) (2.4.7)\n",
            "datarobot-mlops is already installed with the same version as the provided wheel. Use --force-reinstall to force an installation of the wheel.\n",
            "Processing ./lib/datarobot_mlops_connected_client-7.2.1-py2.py3-none-any.whl\n",
            "Collecting aiohttp\n",
            "  Downloading aiohttp-3.7.4.post0-cp37-cp37m-manylinux2014_x86_64.whl (1.3 MB)\n",
            "\u001b[K     |████████████████████████████████| 1.3 MB 6.7 MB/s \n",
            "\u001b[?25hRequirement already satisfied: datarobot-mlops>=7.1 in /usr/local/lib/python3.7/dist-packages (from datarobot-mlops-connected-client==7.2.1) (7.2.1)\n",
            "Requirement already satisfied: requests in /usr/local/lib/python3.7/dist-packages (from datarobot-mlops-connected-client==7.2.1) (2.23.0)\n",
            "Requirement already satisfied: pandas in /usr/local/lib/python3.7/dist-packages (from datarobot-mlops-connected-client==7.2.1) (1.1.5)\n",
            "Requirement already satisfied: pika<1,>=0.13.1 in /usr/local/lib/python3.7/dist-packages (from datarobot-mlops>=7.1->datarobot-mlops-connected-client==7.2.1) (0.13.1)\n",
            "Requirement already satisfied: future>=0.16 in /usr/local/lib/python3.7/dist-packages (from datarobot-mlops>=7.1->datarobot-mlops-connected-client==7.2.1) (0.16.0)\n",
            "Requirement already satisfied: python-dateutil in /usr/local/lib/python3.7/dist-packages (from datarobot-mlops>=7.1->datarobot-mlops-connected-client==7.2.1) (2.8.1)\n",
            "Requirement already satisfied: py4j<1,>=0.10.9.1 in /usr/local/lib/python3.7/dist-packages (from datarobot-mlops>=7.1->datarobot-mlops-connected-client==7.2.1) (0.10.9.2)\n",
            "Requirement already satisfied: deprecation<3,>=2.1.0 in /usr/local/lib/python3.7/dist-packages (from datarobot-mlops>=7.1->datarobot-mlops-connected-client==7.2.1) (2.1.0)\n",
            "Requirement already satisfied: datarobot in /usr/local/lib/python3.7/dist-packages (from datarobot-mlops>=7.1->datarobot-mlops-connected-client==7.2.1) (2.25.0)\n",
            "Requirement already satisfied: boto3<2,>=1.11.4 in /usr/local/lib/python3.7/dist-packages (from datarobot-mlops>=7.1->datarobot-mlops-connected-client==7.2.1) (1.18.10)\n",
            "Requirement already satisfied: botocore<1.22.0,>=1.21.10 in /usr/local/lib/python3.7/dist-packages (from boto3<2,>=1.11.4->datarobot-mlops>=7.1->datarobot-mlops-connected-client==7.2.1) (1.21.10)\n",
            "Requirement already satisfied: s3transfer<0.6.0,>=0.5.0 in /usr/local/lib/python3.7/dist-packages (from boto3<2,>=1.11.4->datarobot-mlops>=7.1->datarobot-mlops-connected-client==7.2.1) (0.5.0)\n",
            "Requirement already satisfied: jmespath<1.0.0,>=0.7.1 in /usr/local/lib/python3.7/dist-packages (from boto3<2,>=1.11.4->datarobot-mlops>=7.1->datarobot-mlops-connected-client==7.2.1) (0.10.0)\n",
            "Requirement already satisfied: urllib3<1.27,>=1.25.4 in /usr/local/lib/python3.7/dist-packages (from botocore<1.22.0,>=1.21.10->boto3<2,>=1.11.4->datarobot-mlops>=7.1->datarobot-mlops-connected-client==7.2.1) (1.25.11)\n",
            "Requirement already satisfied: packaging in /usr/local/lib/python3.7/dist-packages (from deprecation<3,>=2.1.0->datarobot-mlops>=7.1->datarobot-mlops-connected-client==7.2.1) (21.0)\n",
            "Requirement already satisfied: six>=1.5 in /usr/local/lib/python3.7/dist-packages (from python-dateutil->datarobot-mlops>=7.1->datarobot-mlops-connected-client==7.2.1) (1.15.0)\n",
            "Collecting async-timeout<4.0,>=3.0\n",
            "  Downloading async_timeout-3.0.1-py3-none-any.whl (8.2 kB)\n",
            "Requirement already satisfied: typing-extensions>=3.6.5 in /usr/local/lib/python3.7/dist-packages (from aiohttp->datarobot-mlops-connected-client==7.2.1) (3.7.4.3)\n",
            "Requirement already satisfied: chardet<5.0,>=2.0 in /usr/local/lib/python3.7/dist-packages (from aiohttp->datarobot-mlops-connected-client==7.2.1) (3.0.4)\n",
            "Requirement already satisfied: attrs>=17.3.0 in /usr/local/lib/python3.7/dist-packages (from aiohttp->datarobot-mlops-connected-client==7.2.1) (19.3.0)\n",
            "Collecting yarl<2.0,>=1.0\n",
            "  Downloading yarl-1.6.3-cp37-cp37m-manylinux2014_x86_64.whl (294 kB)\n",
            "\u001b[K     |████████████████████████████████| 294 kB 32.7 MB/s \n",
            "\u001b[?25hCollecting multidict<7.0,>=4.5\n",
            "  Downloading multidict-5.1.0-cp37-cp37m-manylinux2014_x86_64.whl (142 kB)\n",
            "\u001b[K     |████████████████████████████████| 142 kB 32.3 MB/s \n",
            "\u001b[?25hRequirement already satisfied: idna>=2.0 in /usr/local/lib/python3.7/dist-packages (from yarl<2.0,>=1.0->aiohttp->datarobot-mlops-connected-client==7.2.1) (2.10)\n",
            "Requirement already satisfied: contextlib2>=0.5.5 in /usr/local/lib/python3.7/dist-packages (from datarobot->datarobot-mlops>=7.1->datarobot-mlops-connected-client==7.2.1) (0.5.5)\n",
            "Requirement already satisfied: trafaret!=1.1.0,<2.0,>=0.7 in /usr/local/lib/python3.7/dist-packages (from datarobot->datarobot-mlops>=7.1->datarobot-mlops-connected-client==7.2.1) (1.2.0)\n",
            "Requirement already satisfied: requests-toolbelt>=0.6 in /usr/local/lib/python3.7/dist-packages (from datarobot->datarobot-mlops>=7.1->datarobot-mlops-connected-client==7.2.1) (0.9.1)\n",
            "Requirement already satisfied: pyyaml>=3.11 in /usr/local/lib/python3.7/dist-packages (from datarobot->datarobot-mlops>=7.1->datarobot-mlops-connected-client==7.2.1) (3.13)\n",
            "Requirement already satisfied: numpy>=1.15.4 in /usr/local/lib/python3.7/dist-packages (from pandas->datarobot-mlops-connected-client==7.2.1) (1.19.5)\n",
            "Requirement already satisfied: pytz>=2017.2 in /usr/local/lib/python3.7/dist-packages (from pandas->datarobot-mlops-connected-client==7.2.1) (2018.9)\n",
            "Requirement already satisfied: certifi>=2017.4.17 in /usr/local/lib/python3.7/dist-packages (from requests->datarobot-mlops-connected-client==7.2.1) (2021.5.30)\n",
            "Requirement already satisfied: pyparsing>=2.0.2 in /usr/local/lib/python3.7/dist-packages (from packaging->deprecation<3,>=2.1.0->datarobot-mlops>=7.1->datarobot-mlops-connected-client==7.2.1) (2.4.7)\n",
            "Installing collected packages: multidict, yarl, async-timeout, aiohttp, datarobot-mlops-connected-client\n",
            "Successfully installed aiohttp-3.7.4.post0 async-timeout-3.0.1 datarobot-mlops-connected-client-7.2.1 multidict-5.1.0 yarl-1.6.3\n"
          ],
          "name": "stdout"
        }
      ]
    },
    {
      "cell_type": "code",
      "metadata": {
        "id": "2ssjub8TT901"
      },
      "source": [
        ""
      ],
      "execution_count": null,
      "outputs": []
    },
    {
      "cell_type": "code",
      "metadata": {
        "colab": {
          "base_uri": "https://localhost:8080/"
        },
        "id": "eb2nNI_Pz0Y8",
        "outputId": "1202ca33-1661-42af-a4a3-46a2dd2d8687"
      },
      "source": [
        "#Editing config yaml file with rabbit mq spooler , API and URL\n",
        "%cp -av '/content/datarobot_mlops_package-7.2.1/conf/mlops.agent.conf.yaml' conf/\n"
      ],
      "execution_count": 6,
      "outputs": [
        {
          "output_type": "stream",
          "text": [
            "cp: '/content/datarobot_mlops_package-7.2.1/conf/mlops.agent.conf.yaml' and 'conf/mlops.agent.conf.yaml' are the same file\n"
          ],
          "name": "stdout"
        }
      ]
    },
    {
      "cell_type": "code",
      "metadata": {
        "colab": {
          "base_uri": "https://localhost:8080/"
        },
        "id": "dLuoM7shAY_G",
        "outputId": "8e9fa9ce-0400-4978-8155-c5bb8ce6f672"
      },
      "source": [
        "#start agent\n",
        "!./bin/start-agent.sh"
      ],
      "execution_count": 7,
      "outputs": [
        {
          "output_type": "stream",
          "text": [
            "INFO: AGENT_CONFIG_YAML=/content/datarobot_mlops_package-7.2.1/conf/mlops.agent.conf.yaml\n",
            "INFO: AGENT_LOG_PROPERTIES=/content/datarobot_mlops_package-7.2.1/conf/mlops.log4j2.properties\n",
            "INFO: AGENT_JVM_OPT=-Xmx1G\n",
            "INFO: AGENT_JAR_PATH=/content/datarobot_mlops_package-7.2.1/lib/mlops-agent-7.2.1.jar\n",
            "INFO: AGENT_LOG_PATH=/content/datarobot_mlops_package-7.2.1/logs/mlops.agent.log\n",
            "\n",
            "Starting MLOps-Agent\n",
            "\n",
            "\n",
            "DataRobot MLOps-Agent is running.\n"
          ],
          "name": "stdout"
        }
      ]
    },
    {
      "cell_type": "code",
      "metadata": {
        "id": "v_6y1TBMAd6i"
      },
      "source": [
        "cat /content/datarobot_mlops_package-7.2.1/logs/mlops.agent.log\n"
      ],
      "execution_count": null,
      "outputs": []
    },
    {
      "cell_type": "code",
      "metadata": {
        "id": "X3ixWuzJBg0e"
      },
      "source": [
        "from datarobot.mlops.mlops import MLOps\n",
        "from datarobot.mlops.common.enums import OutputType\n",
        "from datarobot.mlops.common.exception import DRConnectedException\n",
        "from datarobot.mlops.constants import Constants\n",
        "from datarobot.mlops.connected.client import MLOpsClient"
      ],
      "execution_count": 11,
      "outputs": []
    },
    {
      "cell_type": "markdown",
      "metadata": {
        "id": "o--NW5jrUh8P"
      },
      "source": [
        ""
      ]
    },
    {
      "cell_type": "markdown",
      "metadata": {
        "id": "J0wHy2YKUuvV"
      },
      "source": [
        "# Uploading Pickle file ( A pre trained model )\n"
      ]
    },
    {
      "cell_type": "code",
      "metadata": {
        "id": "xtNoUV_1XIYu"
      },
      "source": [
        "import time\n",
        "import random\n",
        "import argparse\n",
        "import csv\n",
        "import pytz\n",
        "import datetime\n",
        "import pandas as pd\n",
        "\n",
        "deployment_id = '61013bd857c7dc0a7d94c699'\n",
        "model_id = '60f27ec00675a525ba820a32'\n",
        "spool_dir = \"/content/datarobot_mlops_package-7.2.1/tmp/ta\"\n",
        "MLOPS_FILESYSTEM_MAX_FILE_SIZE = 104857600\n",
        "MLOPS_FILESYSTEM_MAX_NUM_FILES = 5\n",
        "\n",
        "# name of the file that contains actuals\n",
        "ACTUALS_OUTPUT_FILE = \"/content/datarobot_mlops_package-7.2.1/Model/Diabetes_test - diabetes.csv\"\n",
        "\n",
        "!export MLOPS_FILESYSTEM_MAX_FILE_SIZE\n",
        "!export MLOPS_FILESYSTEM_MAX_NUM_FILES"
      ],
      "execution_count": 22,
      "outputs": []
    },
    {
      "cell_type": "code",
      "metadata": {
        "id": "7z5k2mNIkJ4z"
      },
      "source": [
        "# load pickle file with model pipeline\n",
        "model = pd.read_pickle ('/content/datarobot_mlops_package-7.2.1/Model/model.pkl')\n",
        "features_df_scoring = pd.read_csv('/content/datarobot_mlops_package-7.2.1/Model/Diabetes_test - diabetes.csv')\n",
        "\n",
        "# Get predictions\n",
        "start_time = time.time()\n",
        "predictions = model.predict(features_df_scoring).tolist()\n",
        "end_time = time.time()\n",
        "\n",
        "# number of predictions\n",
        "num_predictions = len(predictions)\n",
        "\n",
        "# time required to generate the predictions\n",
        "prediction_time = end_time - start_time"
      ],
      "execution_count": 17,
      "outputs": []
    },
    {
      "cell_type": "code",
      "metadata": {
        "id": "jAH1GbhkldMw"
      },
      "source": [
        "# Generate assocation ids for the predictions so we can match them with actuals\n",
        "# this is necessary for accuracy monitoring\n",
        "# The association ids are generated by taking the current time and appending a row counter to it\n",
        "def generate_unique_association_ids(num_samples):\n",
        "    ts = time.time()\n",
        "    return [\"x_{}_{}\".format(ts, i) for i in range(num_samples)]\n",
        "\n",
        "association_ids = generate_unique_association_ids(len(features_df_scoring))\n"
      ],
      "execution_count": 18,
      "outputs": []
    },
    {
      "cell_type": "code",
      "metadata": {
        "id": "k1qk7j4aljAX"
      },
      "source": [
        "# MLOPS: initialize the MLOps instance\n",
        "mlops = MLOps() \\\n",
        "        .set_deployment_id(deployment_id) \\\n",
        "        .set_model_id(model_id) \\\n",
        "        .set_filesystem_spooler(spool_dir) \\\n",
        "        .init()"
      ],
      "execution_count": null,
      "outputs": []
    },
    {
      "cell_type": "code",
      "metadata": {
        "id": "CbiNO4y5nolz"
      },
      "source": [
        "# MLOPS: report the number of predictions in the request and the execution time\n",
        "MLOps.report_deployment_stats(num_predictions=num_predictions, execution_time_ms=prediction_time)"
      ],
      "execution_count": null,
      "outputs": []
    },
    {
      "cell_type": "code",
      "metadata": {
        "id": "EPl7U87zsNJ9"
      },
      "source": [
        "MLOps.report_predictions_data(features_df=features_df_scoring, predictions=predictions)"
      ],
      "execution_count": null,
      "outputs": []
    },
    {
      "cell_type": "code",
      "metadata": {
        "colab": {
          "base_uri": "https://localhost:8080/"
        },
        "id": "N5fGi1mIrjiG",
        "outputId": "f8379b93-7bd1-4f19-83c5-120bb67656eb"
      },
      "source": [
        "num_predictions"
      ],
      "execution_count": 41,
      "outputs": [
        {
          "output_type": "execute_result",
          "data": {
            "text/plain": [
              "442"
            ]
          },
          "metadata": {
            "tags": []
          },
          "execution_count": 41
        }
      ]
    },
    {
      "cell_type": "code",
      "metadata": {
        "colab": {
          "base_uri": "https://localhost:8080/"
        },
        "id": "I5kB7PIsrmLE",
        "outputId": "aa8a2775-c3b2-458f-da91-7337e93aa868"
      },
      "source": [
        "prediction_time"
      ],
      "execution_count": 42,
      "outputs": [
        {
          "output_type": "execute_result",
          "data": {
            "text/plain": [
              "0.004504680633544922"
            ]
          },
          "metadata": {
            "tags": []
          },
          "execution_count": 42
        }
      ]
    }
  ]
}